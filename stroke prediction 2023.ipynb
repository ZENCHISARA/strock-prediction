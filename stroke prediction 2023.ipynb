{
 "cells": [
  {
   "cell_type": "markdown",
   "id": "e464e556",
   "metadata": {},
   "source": [
    "# stroke prediction\n",
    "\n",
    "### Context\n",
    "\n",
    "The World Health Organization (WHO) reports that stroke is the second most common cause of death worldwide, accounting for approximately 11% of all deaths. In order to predict the likelihood of a patient experiencing a stroke, a dataset has been created which includes input parameters such as gender, age, various diseases, and smoking status. Each row in the dataset provides relevant information about a specific patient.\n",
    "\n",
    "\n",
    "\n"
   ]
  },
  {
   "cell_type": "markdown",
   "id": "52460205",
   "metadata": {},
   "source": [
    "### Libraries"
   ]
  },
  {
   "cell_type": "code",
   "execution_count": 1,
   "id": "94f3ba42",
   "metadata": {},
   "outputs": [],
   "source": [
    "import numpy as np\n",
    "import pandas as pd\n",
    "import seaborn as sns\n",
    "import matplotlib.pyplot as plt\n",
    "import warnings\n",
    "from sklearn.preprocessing import RobustScaler, LabelEncoder, MinMaxScaler\n",
    "from sklearn.model_selection import train_test_split, cross_validate, GridSearchCV\n",
    "from sklearn.metrics import accuracy_score, classification_report, confusion_matrix\n",
    "from sklearn.linear_model import LogisticRegression\n",
    "from sklearn.neighbors import KNeighborsClassifier\n",
    "from sklearn.ensemble import RandomForestClassifier, GradientBoostingClassifier\n",
    "from sklearn.tree import DecisionTreeClassifier\n",
    "from xgboost import XGBClassifier\n",
    "\n",
    "\n",
    "\n",
    "warnings.simplefilter(action='ignore', category=Warning)"
   ]
  },
  {
   "cell_type": "markdown",
   "id": "759c7456",
   "metadata": {},
   "source": [
    "### Load Dataset"
   ]
  },
  {
   "cell_type": "code",
   "execution_count": 2,
   "id": "e3ad2226",
   "metadata": {},
   "outputs": [],
   "source": [
    "df = pd.read_csv(\"dataset.csv\")"
   ]
  },
  {
   "cell_type": "markdown",
   "id": "4793c41c",
   "metadata": {},
   "source": [
    "## Exploratory Data Analysis"
   ]
  },
  {
   "cell_type": "code",
   "execution_count": 3,
   "id": "f1a85a1e",
   "metadata": {},
   "outputs": [
    {
     "data": {
      "text/html": [
       "<div>\n",
       "<style scoped>\n",
       "    .dataframe tbody tr th:only-of-type {\n",
       "        vertical-align: middle;\n",
       "    }\n",
       "\n",
       "    .dataframe tbody tr th {\n",
       "        vertical-align: top;\n",
       "    }\n",
       "\n",
       "    .dataframe thead th {\n",
       "        text-align: right;\n",
       "    }\n",
       "</style>\n",
       "<table border=\"1\" class=\"dataframe\">\n",
       "  <thead>\n",
       "    <tr style=\"text-align: right;\">\n",
       "      <th></th>\n",
       "      <th>id</th>\n",
       "      <th>gender</th>\n",
       "      <th>age</th>\n",
       "      <th>hypertension</th>\n",
       "      <th>heart_disease</th>\n",
       "      <th>ever_married</th>\n",
       "      <th>work_type</th>\n",
       "      <th>Residence_type</th>\n",
       "      <th>avg_glucose_level</th>\n",
       "      <th>bmi</th>\n",
       "      <th>smoking_status</th>\n",
       "      <th>stroke</th>\n",
       "    </tr>\n",
       "  </thead>\n",
       "  <tbody>\n",
       "    <tr>\n",
       "      <th>0</th>\n",
       "      <td>30669</td>\n",
       "      <td>Male</td>\n",
       "      <td>3.0</td>\n",
       "      <td>0</td>\n",
       "      <td>0</td>\n",
       "      <td>No</td>\n",
       "      <td>children</td>\n",
       "      <td>Rural</td>\n",
       "      <td>95.12</td>\n",
       "      <td>18.0</td>\n",
       "      <td>NaN</td>\n",
       "      <td>0</td>\n",
       "    </tr>\n",
       "    <tr>\n",
       "      <th>1</th>\n",
       "      <td>30468</td>\n",
       "      <td>Male</td>\n",
       "      <td>58.0</td>\n",
       "      <td>1</td>\n",
       "      <td>0</td>\n",
       "      <td>Yes</td>\n",
       "      <td>Private</td>\n",
       "      <td>Urban</td>\n",
       "      <td>87.96</td>\n",
       "      <td>39.2</td>\n",
       "      <td>never smoked</td>\n",
       "      <td>0</td>\n",
       "    </tr>\n",
       "    <tr>\n",
       "      <th>2</th>\n",
       "      <td>16523</td>\n",
       "      <td>Female</td>\n",
       "      <td>8.0</td>\n",
       "      <td>0</td>\n",
       "      <td>0</td>\n",
       "      <td>No</td>\n",
       "      <td>Private</td>\n",
       "      <td>Urban</td>\n",
       "      <td>110.89</td>\n",
       "      <td>17.6</td>\n",
       "      <td>NaN</td>\n",
       "      <td>0</td>\n",
       "    </tr>\n",
       "    <tr>\n",
       "      <th>3</th>\n",
       "      <td>56543</td>\n",
       "      <td>Female</td>\n",
       "      <td>70.0</td>\n",
       "      <td>0</td>\n",
       "      <td>0</td>\n",
       "      <td>Yes</td>\n",
       "      <td>Private</td>\n",
       "      <td>Rural</td>\n",
       "      <td>69.04</td>\n",
       "      <td>35.9</td>\n",
       "      <td>formerly smoked</td>\n",
       "      <td>0</td>\n",
       "    </tr>\n",
       "    <tr>\n",
       "      <th>4</th>\n",
       "      <td>46136</td>\n",
       "      <td>Male</td>\n",
       "      <td>14.0</td>\n",
       "      <td>0</td>\n",
       "      <td>0</td>\n",
       "      <td>No</td>\n",
       "      <td>Never_worked</td>\n",
       "      <td>Rural</td>\n",
       "      <td>161.28</td>\n",
       "      <td>19.1</td>\n",
       "      <td>NaN</td>\n",
       "      <td>0</td>\n",
       "    </tr>\n",
       "  </tbody>\n",
       "</table>\n",
       "</div>"
      ],
      "text/plain": [
       "      id  gender   age  hypertension  heart_disease ever_married  \\\n",
       "0  30669    Male   3.0             0              0           No   \n",
       "1  30468    Male  58.0             1              0          Yes   \n",
       "2  16523  Female   8.0             0              0           No   \n",
       "3  56543  Female  70.0             0              0          Yes   \n",
       "4  46136    Male  14.0             0              0           No   \n",
       "\n",
       "      work_type Residence_type  avg_glucose_level   bmi   smoking_status  \\\n",
       "0      children          Rural              95.12  18.0              NaN   \n",
       "1       Private          Urban              87.96  39.2     never smoked   \n",
       "2       Private          Urban             110.89  17.6              NaN   \n",
       "3       Private          Rural              69.04  35.9  formerly smoked   \n",
       "4  Never_worked          Rural             161.28  19.1              NaN   \n",
       "\n",
       "   stroke  \n",
       "0       0  \n",
       "1       0  \n",
       "2       0  \n",
       "3       0  \n",
       "4       0  "
      ]
     },
     "execution_count": 3,
     "metadata": {},
     "output_type": "execute_result"
    }
   ],
   "source": [
    "df.head()"
   ]
  },
  {
   "cell_type": "code",
   "execution_count": 4,
   "id": "72eef414",
   "metadata": {},
   "outputs": [
    {
     "data": {
      "text/html": [
       "<div>\n",
       "<style scoped>\n",
       "    .dataframe tbody tr th:only-of-type {\n",
       "        vertical-align: middle;\n",
       "    }\n",
       "\n",
       "    .dataframe tbody tr th {\n",
       "        vertical-align: top;\n",
       "    }\n",
       "\n",
       "    .dataframe thead th {\n",
       "        text-align: right;\n",
       "    }\n",
       "</style>\n",
       "<table border=\"1\" class=\"dataframe\">\n",
       "  <thead>\n",
       "    <tr style=\"text-align: right;\">\n",
       "      <th></th>\n",
       "      <th>id</th>\n",
       "      <th>gender</th>\n",
       "      <th>age</th>\n",
       "      <th>hypertension</th>\n",
       "      <th>heart_disease</th>\n",
       "      <th>ever_married</th>\n",
       "      <th>work_type</th>\n",
       "      <th>Residence_type</th>\n",
       "      <th>avg_glucose_level</th>\n",
       "      <th>bmi</th>\n",
       "      <th>smoking_status</th>\n",
       "      <th>stroke</th>\n",
       "    </tr>\n",
       "  </thead>\n",
       "  <tbody>\n",
       "    <tr>\n",
       "      <th>43395</th>\n",
       "      <td>56196</td>\n",
       "      <td>Female</td>\n",
       "      <td>10.0</td>\n",
       "      <td>0</td>\n",
       "      <td>0</td>\n",
       "      <td>No</td>\n",
       "      <td>children</td>\n",
       "      <td>Urban</td>\n",
       "      <td>58.64</td>\n",
       "      <td>20.4</td>\n",
       "      <td>never smoked</td>\n",
       "      <td>0</td>\n",
       "    </tr>\n",
       "    <tr>\n",
       "      <th>43396</th>\n",
       "      <td>5450</td>\n",
       "      <td>Female</td>\n",
       "      <td>56.0</td>\n",
       "      <td>0</td>\n",
       "      <td>0</td>\n",
       "      <td>Yes</td>\n",
       "      <td>Govt_job</td>\n",
       "      <td>Urban</td>\n",
       "      <td>213.61</td>\n",
       "      <td>55.4</td>\n",
       "      <td>formerly smoked</td>\n",
       "      <td>0</td>\n",
       "    </tr>\n",
       "    <tr>\n",
       "      <th>43397</th>\n",
       "      <td>28375</td>\n",
       "      <td>Female</td>\n",
       "      <td>82.0</td>\n",
       "      <td>1</td>\n",
       "      <td>0</td>\n",
       "      <td>Yes</td>\n",
       "      <td>Private</td>\n",
       "      <td>Urban</td>\n",
       "      <td>91.94</td>\n",
       "      <td>28.9</td>\n",
       "      <td>formerly smoked</td>\n",
       "      <td>0</td>\n",
       "    </tr>\n",
       "    <tr>\n",
       "      <th>43398</th>\n",
       "      <td>27973</td>\n",
       "      <td>Male</td>\n",
       "      <td>40.0</td>\n",
       "      <td>0</td>\n",
       "      <td>0</td>\n",
       "      <td>Yes</td>\n",
       "      <td>Private</td>\n",
       "      <td>Urban</td>\n",
       "      <td>99.16</td>\n",
       "      <td>33.2</td>\n",
       "      <td>never smoked</td>\n",
       "      <td>0</td>\n",
       "    </tr>\n",
       "    <tr>\n",
       "      <th>43399</th>\n",
       "      <td>36271</td>\n",
       "      <td>Female</td>\n",
       "      <td>82.0</td>\n",
       "      <td>0</td>\n",
       "      <td>0</td>\n",
       "      <td>Yes</td>\n",
       "      <td>Private</td>\n",
       "      <td>Urban</td>\n",
       "      <td>79.48</td>\n",
       "      <td>20.6</td>\n",
       "      <td>never smoked</td>\n",
       "      <td>0</td>\n",
       "    </tr>\n",
       "  </tbody>\n",
       "</table>\n",
       "</div>"
      ],
      "text/plain": [
       "          id  gender   age  hypertension  heart_disease ever_married  \\\n",
       "43395  56196  Female  10.0             0              0           No   \n",
       "43396   5450  Female  56.0             0              0          Yes   \n",
       "43397  28375  Female  82.0             1              0          Yes   \n",
       "43398  27973    Male  40.0             0              0          Yes   \n",
       "43399  36271  Female  82.0             0              0          Yes   \n",
       "\n",
       "      work_type Residence_type  avg_glucose_level   bmi   smoking_status  \\\n",
       "43395  children          Urban              58.64  20.4     never smoked   \n",
       "43396  Govt_job          Urban             213.61  55.4  formerly smoked   \n",
       "43397   Private          Urban              91.94  28.9  formerly smoked   \n",
       "43398   Private          Urban              99.16  33.2     never smoked   \n",
       "43399   Private          Urban              79.48  20.6     never smoked   \n",
       "\n",
       "       stroke  \n",
       "43395       0  \n",
       "43396       0  \n",
       "43397       0  \n",
       "43398       0  \n",
       "43399       0  "
      ]
     },
     "execution_count": 4,
     "metadata": {},
     "output_type": "execute_result"
    }
   ],
   "source": [
    "df.tail()"
   ]
  },
  {
   "cell_type": "code",
   "execution_count": 5,
   "id": "63ecd24c",
   "metadata": {},
   "outputs": [
    {
     "data": {
      "text/plain": [
       "(43400, 12)"
      ]
     },
     "execution_count": 5,
     "metadata": {},
     "output_type": "execute_result"
    }
   ],
   "source": [
    "df.shape"
   ]
  },
  {
   "cell_type": "markdown",
   "id": "a25da635",
   "metadata": {},
   "source": [
    "### Missing Values"
   ]
  },
  {
   "cell_type": "code",
   "execution_count": 6,
   "id": "87e170f1",
   "metadata": {},
   "outputs": [
    {
     "data": {
      "text/plain": [
       "id                       0\n",
       "gender                   0\n",
       "age                      0\n",
       "hypertension             0\n",
       "heart_disease            0\n",
       "ever_married             0\n",
       "work_type                0\n",
       "Residence_type           0\n",
       "avg_glucose_level        0\n",
       "bmi                   1462\n",
       "smoking_status       13292\n",
       "stroke                   0\n",
       "dtype: int64"
      ]
     },
     "execution_count": 6,
     "metadata": {},
     "output_type": "execute_result"
    }
   ],
   "source": [
    "df.isnull().sum()  #missing values"
   ]
  },
  {
   "cell_type": "markdown",
   "id": "daaa0c33",
   "metadata": {},
   "source": [
    "As we can see there is  1462 null value in bmi \n",
    "and 13292 null value in smoking_status \n"
   ]
  },
  {
   "cell_type": "markdown",
   "id": "5a2eabbe",
   "metadata": {},
   "source": [
    "### Categorical and Numerical Variables"
   ]
  },
  {
   "cell_type": "code",
   "execution_count": 7,
   "id": "ddbfd148",
   "metadata": {},
   "outputs": [],
   "source": [
    "def col_names(df):\n",
    "    #Categorical Variables\n",
    "    cat_cols = [col for col in df.columns if df[col].dtypes not in [\"int64\", \"float64\"]]\n",
    "    #Numerical Variables\n",
    "    num_cols = [col for col in df.columns if df[col].dtypes in [\"int64\", \"float64\"]]\n",
    "    #Numerical but Categorical Variables\n",
    "    num_but_cat = [col for col in num_cols if df[col].nunique() < 12]\n",
    "    #Adding num_but_cat to cat_cols\n",
    "    cat_cols = num_but_cat + cat_cols\n",
    "    #num_but_cat removing from num_cols\n",
    "    num_cols = [col for col in num_cols if col not in num_but_cat]\n",
    "    #Categorical but Cardinal Variables\n",
    "    cat_but_car = [col for col in cat_cols if df[col].nunique() > 12]\n",
    "    print(f\"Numerical Cols: {num_cols} \\nCategorical Cols: {cat_cols} \\nNumerical but Categorical: {num_but_cat} \\nCategorical but Cardinal: {cat_but_car}\") \n",
    "    return num_cols, cat_cols"
   ]
  },
  {
   "cell_type": "code",
   "execution_count": 8,
   "id": "387360f4",
   "metadata": {},
   "outputs": [
    {
     "name": "stdout",
     "output_type": "stream",
     "text": [
      "Numerical Cols: ['id', 'age', 'avg_glucose_level', 'bmi'] \n",
      "Categorical Cols: ['hypertension', 'heart_disease', 'stroke', 'gender', 'ever_married', 'work_type', 'Residence_type', 'smoking_status'] \n",
      "Numerical but Categorical: ['hypertension', 'heart_disease', 'stroke'] \n",
      "Categorical but Cardinal: []\n"
     ]
    }
   ],
   "source": [
    "num_cols, cat_cols = col_names(df)"
   ]
  },
  {
   "cell_type": "markdown",
   "id": "19ccc100",
   "metadata": {},
   "source": [
    "### Analyzing Numerical Variables"
   ]
  },
  {
   "cell_type": "code",
   "execution_count": 9,
   "id": "8f2d06b8",
   "metadata": {},
   "outputs": [
    {
     "data": {
      "text/html": [
       "<div>\n",
       "<style scoped>\n",
       "    .dataframe tbody tr th:only-of-type {\n",
       "        vertical-align: middle;\n",
       "    }\n",
       "\n",
       "    .dataframe tbody tr th {\n",
       "        vertical-align: top;\n",
       "    }\n",
       "\n",
       "    .dataframe thead th {\n",
       "        text-align: right;\n",
       "    }\n",
       "</style>\n",
       "<table border=\"1\" class=\"dataframe\">\n",
       "  <thead>\n",
       "    <tr style=\"text-align: right;\">\n",
       "      <th></th>\n",
       "      <th>count</th>\n",
       "      <th>mean</th>\n",
       "      <th>std</th>\n",
       "      <th>min</th>\n",
       "      <th>25%</th>\n",
       "      <th>50%</th>\n",
       "      <th>75%</th>\n",
       "      <th>max</th>\n",
       "    </tr>\n",
       "  </thead>\n",
       "  <tbody>\n",
       "    <tr>\n",
       "      <th>id</th>\n",
       "      <td>43400.0</td>\n",
       "      <td>36326.142350</td>\n",
       "      <td>21072.134879</td>\n",
       "      <td>1.00</td>\n",
       "      <td>18038.50</td>\n",
       "      <td>36351.50</td>\n",
       "      <td>54514.25</td>\n",
       "      <td>72943.00</td>\n",
       "    </tr>\n",
       "    <tr>\n",
       "      <th>age</th>\n",
       "      <td>43400.0</td>\n",
       "      <td>42.217894</td>\n",
       "      <td>22.519649</td>\n",
       "      <td>0.08</td>\n",
       "      <td>24.00</td>\n",
       "      <td>44.00</td>\n",
       "      <td>60.00</td>\n",
       "      <td>82.00</td>\n",
       "    </tr>\n",
       "    <tr>\n",
       "      <th>avg_glucose_level</th>\n",
       "      <td>43400.0</td>\n",
       "      <td>104.482750</td>\n",
       "      <td>43.111751</td>\n",
       "      <td>55.00</td>\n",
       "      <td>77.54</td>\n",
       "      <td>91.58</td>\n",
       "      <td>112.07</td>\n",
       "      <td>291.05</td>\n",
       "    </tr>\n",
       "    <tr>\n",
       "      <th>bmi</th>\n",
       "      <td>41938.0</td>\n",
       "      <td>28.605038</td>\n",
       "      <td>7.770020</td>\n",
       "      <td>10.10</td>\n",
       "      <td>23.20</td>\n",
       "      <td>27.70</td>\n",
       "      <td>32.90</td>\n",
       "      <td>97.60</td>\n",
       "    </tr>\n",
       "  </tbody>\n",
       "</table>\n",
       "</div>"
      ],
      "text/plain": [
       "                     count          mean           std    min       25%  \\\n",
       "id                 43400.0  36326.142350  21072.134879   1.00  18038.50   \n",
       "age                43400.0     42.217894     22.519649   0.08     24.00   \n",
       "avg_glucose_level  43400.0    104.482750     43.111751  55.00     77.54   \n",
       "bmi                41938.0     28.605038      7.770020  10.10     23.20   \n",
       "\n",
       "                        50%       75%       max  \n",
       "id                 36351.50  54514.25  72943.00  \n",
       "age                   44.00     60.00     82.00  \n",
       "avg_glucose_level     91.58    112.07    291.05  \n",
       "bmi                   27.70     32.90     97.60  "
      ]
     },
     "execution_count": 9,
     "metadata": {},
     "output_type": "execute_result"
    }
   ],
   "source": [
    "df[num_cols].describe().T"
   ]
  },
  {
   "cell_type": "code",
   "execution_count": 10,
   "id": "1bbf1c05",
   "metadata": {},
   "outputs": [
    {
     "data": {
      "image/png": "[encoded data removed]",
      "text/plain": [
       "<Figure size 432x288 with 1 Axes>"
      ]
     },
     "metadata": {
      "needs_background": "light"
     },
     "output_type": "display_data"
    },
    {
     "data": {
      "image/png": "[encoded data removed]",
      "text/plain": [
       "<Figure size 432x288 with 1 Axes>"
      ]
     },
     "metadata": {
      "needs_background": "light"
     },
     "output_type": "display_data"
    },
    {
     "data": {
      "image/png": "[encoded data removed]",
      "text/plain": [
       "<Figure size 432x288 with 1 Axes>"
      ]
     },
     "metadata": {
      "needs_background": "light"
     },
     "output_type": "display_data"
    },
    {
     "data": {
      "image/png": "[encoded data removed]",
      "text/plain": [
       "<Figure size 432x288 with 1 Axes>"
      ]
     },
     "metadata": {
      "needs_background": "light"
     },
     "output_type": "display_data"
    }
   ],
   "source": [
    "for col in num_cols:\n",
    "    sns.histplot(x=df[col], data=df, palette=\"pastel\",hue=\"stroke\")\n",
    "    plt.show(block=True)"
   ]
  },
  {
   "cell_type": "markdown",
   "id": "c3c50c05",
   "metadata": {},
   "source": [
    "### Analyzing Categorical Variables"
   ]
  },
  {
   "cell_type": "code",
   "execution_count": null,
   "id": "fa41376a",
   "metadata": {},
   "outputs": [],
   "source": []
  },
  {
   "cell_type": "code",
   "execution_count": 11,
   "id": "47c4da28",
   "metadata": {},
   "outputs": [
    {
     "data": {
      "image/png": "[encoded data removed]",
      "text/plain": [
       "<Figure size 432x288 with 1 Axes>"
      ]
     },
     "metadata": {
      "needs_background": "light"
     },
     "output_type": "display_data"
    },
    {
     "data": {
      "image/png": "[encoded data removed]",
      "text/plain": [
       "<Figure size 432x288 with 1 Axes>"
      ]
     },
     "metadata": {
      "needs_background": "light"
     },
     "output_type": "display_data"
    },
    {
     "data": {
      "image/png": "[encoded data removed]",
      "text/plain": [
       "<Figure size 432x288 with 1 Axes>"
      ]
     },
     "metadata": {
      "needs_background": "light"
     },
     "output_type": "display_data"
    },
    {
     "data": {
      "image/png": "[encoded data removed]",
      "text/plain": [
       "<Figure size 432x288 with 1 Axes>"
      ]
     },
     "metadata": {
      "needs_background": "light"
     },
     "output_type": "display_data"
    },
    {
     "data": {
      "image/png": "[encoded data removed]",
      "text/plain": [
       "<Figure size 432x288 with 1 Axes>"
      ]
     },
     "metadata": {
      "needs_background": "light"
     },
     "output_type": "display_data"
    },
    {
     "data": {
      "image/png": "[encoded data removed]",
      "text/plain": [
       "<Figure size 432x288 with 1 Axes>"
      ]
     },
     "metadata": {
      "needs_background": "light"
     },
     "output_type": "display_data"
    },
    {
     "data": {
      "image/png": "[encoded data removed]",
      "text/plain": [
       "<Figure size 432x288 with 1 Axes>"
      ]
     },
     "metadata": {
      "needs_background": "light"
     },
     "output_type": "display_data"
    },
    {
     "data": {
      "image/png": "[encoded data removed]",
      "text/plain": [
       "<Figure size 432x288 with 1 Axes>"
      ]
     },
     "metadata": {
      "needs_background": "light"
     },
     "output_type": "display_data"
    }
   ],
   "source": [
    "for col in cat_cols: \n",
    "    sns.countplot(df[col], palette=\"ch:.25\" )\n",
    "    plt.show(block=True) "
   ]
  },
  {
   "cell_type": "markdown",
   "id": "f928f71f",
   "metadata": {},
   "source": [
    "### Analyzing Target Variable"
   ]
  },
  {
   "cell_type": "code",
   "execution_count": 12,
   "id": "39a1dfe6",
   "metadata": {},
   "outputs": [
    {
     "data": {
      "text/plain": [
       "0    42617\n",
       "1      783\n",
       "Name: stroke, dtype: int64"
      ]
     },
     "execution_count": 12,
     "metadata": {},
     "output_type": "execute_result"
    }
   ],
   "source": [
    "df[\"stroke\"].value_counts()"
   ]
  },
  {
   "cell_type": "code",
   "execution_count": 13,
   "id": "4c82fa32",
   "metadata": {},
   "outputs": [
    {
     "data": {
      "text/plain": [
       "<AxesSubplot:xlabel='stroke', ylabel='count'>"
      ]
     },
     "execution_count": 13,
     "metadata": {},
     "output_type": "execute_result"
    },
    {
     "data": {
      "image/png": "[encoded data removed]",
      "text/plain": [
       "<Figure size 432x288 with 1 Axes>"
      ]
     },
     "metadata": {
      "needs_background": "light"
     },
     "output_type": "display_data"
    }
   ],
   "source": [
    "sns.countplot(df[\"stroke\"], palette=\"ch:.25\")"
   ]
  },
  {
   "cell_type": "code",
   "execution_count": 14,
   "id": "ade5f019",
   "metadata": {},
   "outputs": [
    {
     "data": {
      "text/plain": [
       "([<matplotlib.patches.Wedge at 0x11663682820>,\n",
       "  <matplotlib.patches.Wedge at 0x11663692130>],\n",
       " [Text(-1.0982335919159008, 0.06231354256900254, '0'),\n",
       "  Text(1.2979124229312722, -0.07364334593617207, '1')],\n",
       " [Text(-0.5990365046814004, 0.03398920503763774, '98.2%'),\n",
       "  Text(0.7987153371884752, -0.04531898211456742, '1.8%')])"
      ]
     },
     "execution_count": 14,
     "metadata": {},
     "output_type": "execute_result"
    },
    {
     "data": {
      "image/png": "[encoded data removed]",
      "text/plain": [
       "<Figure size 432x288 with 1 Axes>"
      ]
     },
     "metadata": {},
     "output_type": "display_data"
    }
   ],
   "source": [
    "plt.pie(df[\"stroke\"].value_counts(), labels=[0,1], shadow=True, colors=['#d0bbff', \"mistyrose\"], explode=(0,0.2), autopct=\"%1.1f%%\")"
   ]
  },
  {
   "cell_type": "markdown",
   "id": "9cfa1293",
   "metadata": {},
   "source": [
    "### Checking for Outliers in Numerical Variables"
   ]
  },
  {
   "cell_type": "code",
   "execution_count": 15,
   "id": "2164bdc4",
   "metadata": {},
   "outputs": [],
   "source": [
    "def check_outliers(df, numerical_cols, low_threshold=0.1, up_threshold=0.9):\n",
    "    outlier_cols = []\n",
    "    for col in numerical_cols:\n",
    "        q1 = df[col].quantile(low_threshold)\n",
    "        q3 = df[col].quantile(up_threshold)\n",
    "        interquantile = q3 - q1\n",
    "        up_limit = q3 + 1.5 * interquantile\n",
    "        low_limit = q1 - 1.5 * interquantile\n",
    "        if df[(df[col] > up_limit) | (df[col] < low_limit)].any(axis=None):\n",
    "            outlier_cols.append(col)\n",
    "    if not outlier_cols:\n",
    "        print(\"There is no outliers\")\n",
    "    return outlier_cols"
   ]
  },
  {
   "cell_type": "code",
   "execution_count": 16,
   "id": "783def4b",
   "metadata": {},
   "outputs": [],
   "source": [
    "outlier_cols = check_outliers(df, num_cols)"
   ]
  },
  {
   "cell_type": "code",
   "execution_count": 17,
   "id": "46bfe9a4",
   "metadata": {},
   "outputs": [
    {
     "name": "stdout",
     "output_type": "stream",
     "text": [
      "['bmi']\n"
     ]
    }
   ],
   "source": [
    "print(outlier_cols)"
   ]
  },
  {
   "cell_type": "markdown",
   "id": "270d939b",
   "metadata": {},
   "source": [
    "There are outliers in \"bmi\""
   ]
  },
  {
   "cell_type": "markdown",
   "id": "fee1ec11",
   "metadata": {},
   "source": [
    "### Correlation "
   ]
  },
  {
   "cell_type": "code",
   "execution_count": 18,
   "id": "34153b82",
   "metadata": {},
   "outputs": [
    {
     "data": {
      "image/png": "[encoded data removed]",
      "text/plain": [
       "<Figure size 720x504 with 2 Axes>"
      ]
     },
     "metadata": {
      "needs_background": "light"
     },
     "output_type": "display_data"
    }
   ],
   "source": [
    "plt.figure(figsize=(10, 7))\n",
    "correlations = df.corr()\n",
    "sns.heatmap(correlations, cmap=\"rocket_r\", annot=True)\n",
    "plt.show()"
   ]
  },
  {
   "cell_type": "markdown",
   "id": "169ae63d",
   "metadata": {},
   "source": [
    " There are no highly correlated columns"
   ]
  },
  {
   "cell_type": "markdown",
   "id": "55bbb60a",
   "metadata": {},
   "source": [
    "### Target Variable vs Numerical Columns"
   ]
  },
  {
   "cell_type": "code",
   "execution_count": null,
   "id": "41a16f33",
   "metadata": {},
   "outputs": [],
   "source": []
  },
  {
   "cell_type": "code",
   "execution_count": 19,
   "id": "931489c9",
   "metadata": {},
   "outputs": [
    {
     "name": "stdout",
     "output_type": "stream",
     "text": [
      "                  id\n",
      "stroke              \n",
      "0       36317.641293\n",
      "1       36788.836526\n",
      "\n",
      "              age\n",
      "stroke           \n",
      "0       41.741565\n",
      "1       68.143448\n",
      "\n",
      "        avg_glucose_level\n",
      "stroke                   \n",
      "0              104.021590\n",
      "1              129.582669\n",
      "\n",
      "              bmi\n",
      "stroke           \n",
      "0       28.585371\n",
      "1       29.868118\n",
      "\n"
     ]
    }
   ],
   "source": [
    "for col in num_cols:\n",
    "    print(df.groupby(\"stroke\").agg({col:\"mean\"}), end=\"\\n\\n\")"
   ]
  },
  {
   "cell_type": "markdown",
   "id": "d32de784",
   "metadata": {},
   "source": [
    "According to the results, the probability of having a stroke increases with age, glucose level and bmi"
   ]
  },
  {
   "cell_type": "markdown",
   "id": "9e0fbd59",
   "metadata": {},
   "source": [
    "### Target Variable vs Categorical Columns"
   ]
  },
  {
   "cell_type": "code",
   "execution_count": 20,
   "id": "eed98253",
   "metadata": {},
   "outputs": [
    {
     "name": "stdout",
     "output_type": "stream",
     "text": [
      "              target_mean\n",
      "hypertension             \n",
      "0                0.014820\n",
      "1                0.049249\n",
      "\n",
      "               target_mean\n",
      "heart_disease             \n",
      "0                 0.014660\n",
      "1                 0.085839\n",
      "\n",
      "        target_mean\n",
      "stroke             \n",
      "0               0.0\n",
      "1               1.0\n",
      "\n",
      "        target_mean\n",
      "gender             \n",
      "Female     0.016793\n",
      "Male       0.019860\n",
      "Other      0.000000\n",
      "\n",
      "              target_mean\n",
      "ever_married             \n",
      "No               0.005174\n",
      "Yes              0.025163\n",
      "\n",
      "               target_mean\n",
      "work_type                 \n",
      "Govt_job          0.016360\n",
      "Never_worked      0.000000\n",
      "Private           0.017758\n",
      "Self-employed     0.036950\n",
      "children          0.000325\n",
      "\n",
      "                target_mean\n",
      "Residence_type             \n",
      "Rural              0.017742\n",
      "Urban              0.018340\n",
      "\n",
      "                 target_mean\n",
      "smoking_status              \n",
      "formerly smoked     0.029494\n",
      "never smoked        0.017691\n",
      "smokes              0.020268\n",
      "\n"
     ]
    }
   ],
   "source": [
    "for col in cat_cols:\n",
    "    print(pd.DataFrame({\"target_mean\": df.groupby(col)[\"stroke\"].mean()}), end=\"\\n\\n\")"
   ]
  },
  {
   "cell_type": "markdown",
   "id": "c759888a",
   "metadata": {},
   "source": [
    "According to the results,\n",
    "\n",
    "- People with hypertension are more likely to have a stroke\n",
    "- People with heart disease are more likely to have a stroke\n",
    "- The probability of having a stroke is the same in men and woman\n",
    "- People who have been married are more likely to have a stroke\n",
    "- People who are self-employed are more likely to have a stroke\n",
    "- The probability of having a stroke is higher in formerly smoked people"
   ]
  },
  {
   "cell_type": "markdown",
   "id": "41e401e9",
   "metadata": {},
   "source": [
    "## Data Preprocessing & Feature Engineering"
   ]
  },
  {
   "cell_type": "markdown",
   "id": "35c8989e",
   "metadata": {},
   "source": [
    "### Filling Missing Values"
   ]
  },
  {
   "cell_type": "code",
   "execution_count": 21,
   "id": "de8c1081",
   "metadata": {},
   "outputs": [],
   "source": [
    "df[\"bmi\"].fillna(df[\"bmi\"].median(),inplace=True)\n"
   ]
  },
  {
   "cell_type": "code",
   "execution_count": 22,
   "id": "eeb71007",
   "metadata": {},
   "outputs": [
    {
     "data": {
      "text/plain": [
       "never smoked       16053\n",
       "formerly smoked     7493\n",
       "smokes              6562\n",
       "Name: smoking_status, dtype: int64"
      ]
     },
     "execution_count": 22,
     "metadata": {},
     "output_type": "execute_result"
    }
   ],
   "source": [
    "df['smoking_status'].value_counts()"
   ]
  },
  {
   "cell_type": "code",
   "execution_count": 23,
   "id": "c1b23076",
   "metadata": {},
   "outputs": [],
   "source": [
    "df['smoking_status'].fillna(\"never smoked\",inplace=True)"
   ]
  },
  {
   "cell_type": "code",
   "execution_count": 24,
   "id": "dfa795c1",
   "metadata": {},
   "outputs": [
    {
     "data": {
      "text/plain": [
       "id                   0\n",
       "gender               0\n",
       "age                  0\n",
       "hypertension         0\n",
       "heart_disease        0\n",
       "ever_married         0\n",
       "work_type            0\n",
       "Residence_type       0\n",
       "avg_glucose_level    0\n",
       "bmi                  0\n",
       "smoking_status       0\n",
       "stroke               0\n",
       "dtype: int64"
      ]
     },
     "execution_count": 24,
     "metadata": {},
     "output_type": "execute_result"
    }
   ],
   "source": [
    "df.isnull().sum()"
   ]
  },
  {
   "cell_type": "markdown",
   "id": "c05060f3",
   "metadata": {},
   "source": [
    "### Label Encoder"
   ]
  },
  {
   "cell_type": "code",
   "execution_count": 25,
   "id": "8ec2aea2",
   "metadata": {},
   "outputs": [
    {
     "data": {
      "text/plain": [
       "1    27938\n",
       "0    15462\n",
       "Name: ever_married, dtype: int64"
      ]
     },
     "execution_count": 25,
     "metadata": {},
     "output_type": "execute_result"
    }
   ],
   "source": [
    "#Converting ever_married to numerical \n",
    "cleanup_nums={ 'ever_married' : {\"No\":0,\"Yes\":1}}\n",
    "df.replace(cleanup_nums,inplace=True)\n",
    "df['ever_married'].value_counts()"
   ]
  },
  {
   "cell_type": "code",
   "execution_count": 26,
   "id": "ff9f5ee3",
   "metadata": {},
   "outputs": [
    {
     "data": {
      "text/plain": [
       "1    21756\n",
       "0    21644\n",
       "Name: Residence_type, dtype: int64"
      ]
     },
     "execution_count": 26,
     "metadata": {},
     "output_type": "execute_result"
    }
   ],
   "source": [
    "#Converting Residence_type to numerical \n",
    "cleanup_nums={ 'Residence_type' : {\"Rural\":0,\"Urban\":1}}\n",
    "df.replace(cleanup_nums,inplace=True)\n",
    "df['Residence_type'].value_counts()"
   ]
  },
  {
   "cell_type": "markdown",
   "id": "de73add2",
   "metadata": {},
   "source": [
    "### One-Hot Encoder\n",
    "\n",
    "One-hot encoder was applied to columns with more than 2 categories"
   ]
  },
  {
   "cell_type": "code",
   "execution_count": 27,
   "id": "acadd848",
   "metadata": {},
   "outputs": [
    {
     "data": {
      "text/html": [
       "<div>\n",
       "<style scoped>\n",
       "    .dataframe tbody tr th:only-of-type {\n",
       "        vertical-align: middle;\n",
       "    }\n",
       "\n",
       "    .dataframe tbody tr th {\n",
       "        vertical-align: top;\n",
       "    }\n",
       "\n",
       "    .dataframe thead th {\n",
       "        text-align: right;\n",
       "    }\n",
       "</style>\n",
       "<table border=\"1\" class=\"dataframe\">\n",
       "  <thead>\n",
       "    <tr style=\"text-align: right;\">\n",
       "      <th></th>\n",
       "      <th>id</th>\n",
       "      <th>age</th>\n",
       "      <th>hypertension</th>\n",
       "      <th>heart_disease</th>\n",
       "      <th>ever_married</th>\n",
       "      <th>work_type</th>\n",
       "      <th>Residence_type</th>\n",
       "      <th>avg_glucose_level</th>\n",
       "      <th>bmi</th>\n",
       "      <th>smoking_status</th>\n",
       "      <th>stroke</th>\n",
       "      <th>Female</th>\n",
       "      <th>Male</th>\n",
       "      <th>Other</th>\n",
       "    </tr>\n",
       "  </thead>\n",
       "  <tbody>\n",
       "    <tr>\n",
       "      <th>0</th>\n",
       "      <td>30669</td>\n",
       "      <td>3.0</td>\n",
       "      <td>0</td>\n",
       "      <td>0</td>\n",
       "      <td>0</td>\n",
       "      <td>children</td>\n",
       "      <td>0</td>\n",
       "      <td>95.12</td>\n",
       "      <td>18.0</td>\n",
       "      <td>never smoked</td>\n",
       "      <td>0</td>\n",
       "      <td>0</td>\n",
       "      <td>1</td>\n",
       "      <td>0</td>\n",
       "    </tr>\n",
       "    <tr>\n",
       "      <th>1</th>\n",
       "      <td>30468</td>\n",
       "      <td>58.0</td>\n",
       "      <td>1</td>\n",
       "      <td>0</td>\n",
       "      <td>1</td>\n",
       "      <td>Private</td>\n",
       "      <td>1</td>\n",
       "      <td>87.96</td>\n",
       "      <td>39.2</td>\n",
       "      <td>never smoked</td>\n",
       "      <td>0</td>\n",
       "      <td>0</td>\n",
       "      <td>1</td>\n",
       "      <td>0</td>\n",
       "    </tr>\n",
       "    <tr>\n",
       "      <th>2</th>\n",
       "      <td>16523</td>\n",
       "      <td>8.0</td>\n",
       "      <td>0</td>\n",
       "      <td>0</td>\n",
       "      <td>0</td>\n",
       "      <td>Private</td>\n",
       "      <td>1</td>\n",
       "      <td>110.89</td>\n",
       "      <td>17.6</td>\n",
       "      <td>never smoked</td>\n",
       "      <td>0</td>\n",
       "      <td>1</td>\n",
       "      <td>0</td>\n",
       "      <td>0</td>\n",
       "    </tr>\n",
       "    <tr>\n",
       "      <th>3</th>\n",
       "      <td>56543</td>\n",
       "      <td>70.0</td>\n",
       "      <td>0</td>\n",
       "      <td>0</td>\n",
       "      <td>1</td>\n",
       "      <td>Private</td>\n",
       "      <td>0</td>\n",
       "      <td>69.04</td>\n",
       "      <td>35.9</td>\n",
       "      <td>formerly smoked</td>\n",
       "      <td>0</td>\n",
       "      <td>1</td>\n",
       "      <td>0</td>\n",
       "      <td>0</td>\n",
       "    </tr>\n",
       "    <tr>\n",
       "      <th>4</th>\n",
       "      <td>46136</td>\n",
       "      <td>14.0</td>\n",
       "      <td>0</td>\n",
       "      <td>0</td>\n",
       "      <td>0</td>\n",
       "      <td>Never_worked</td>\n",
       "      <td>0</td>\n",
       "      <td>161.28</td>\n",
       "      <td>19.1</td>\n",
       "      <td>never smoked</td>\n",
       "      <td>0</td>\n",
       "      <td>0</td>\n",
       "      <td>1</td>\n",
       "      <td>0</td>\n",
       "    </tr>\n",
       "  </tbody>\n",
       "</table>\n",
       "</div>"
      ],
      "text/plain": [
       "      id   age  hypertension  heart_disease  ever_married     work_type  \\\n",
       "0  30669   3.0             0              0             0      children   \n",
       "1  30468  58.0             1              0             1       Private   \n",
       "2  16523   8.0             0              0             0       Private   \n",
       "3  56543  70.0             0              0             1       Private   \n",
       "4  46136  14.0             0              0             0  Never_worked   \n",
       "\n",
       "   Residence_type  avg_glucose_level   bmi   smoking_status  stroke  Female  \\\n",
       "0               0              95.12  18.0     never smoked       0       0   \n",
       "1               1              87.96  39.2     never smoked       0       0   \n",
       "2               1             110.89  17.6     never smoked       0       1   \n",
       "3               0              69.04  35.9  formerly smoked       0       1   \n",
       "4               0             161.28  19.1     never smoked       0       0   \n",
       "\n",
       "   Male  Other  \n",
       "0     1      0  \n",
       "1     1      0  \n",
       "2     0      0  \n",
       "3     0      0  \n",
       "4     1      0  "
      ]
     },
     "execution_count": 27,
     "metadata": {},
     "output_type": "execute_result"
    }
   ],
   "source": [
    "# apply one-hot encoding to the categorical data\n",
    "one_hot = pd.get_dummies(df['gender'])\n",
    "\n",
    "# add the one-hot encoded data back to the original dataframe\n",
    "df = df.drop('gender', axis=1)\n",
    "df = df.join(one_hot)\n",
    "\n",
    "# print the resulting dataframe\n",
    "df.head()\n"
   ]
  },
  {
   "cell_type": "code",
   "execution_count": 28,
   "id": "c41ab45b",
   "metadata": {},
   "outputs": [
    {
     "data": {
      "text/html": [
       "<div>\n",
       "<style scoped>\n",
       "    .dataframe tbody tr th:only-of-type {\n",
       "        vertical-align: middle;\n",
       "    }\n",
       "\n",
       "    .dataframe tbody tr th {\n",
       "        vertical-align: top;\n",
       "    }\n",
       "\n",
       "    .dataframe thead th {\n",
       "        text-align: right;\n",
       "    }\n",
       "</style>\n",
       "<table border=\"1\" class=\"dataframe\">\n",
       "  <thead>\n",
       "    <tr style=\"text-align: right;\">\n",
       "      <th></th>\n",
       "      <th>id</th>\n",
       "      <th>age</th>\n",
       "      <th>hypertension</th>\n",
       "      <th>heart_disease</th>\n",
       "      <th>ever_married</th>\n",
       "      <th>Residence_type</th>\n",
       "      <th>avg_glucose_level</th>\n",
       "      <th>bmi</th>\n",
       "      <th>smoking_status</th>\n",
       "      <th>stroke</th>\n",
       "      <th>Female</th>\n",
       "      <th>Male</th>\n",
       "      <th>Other</th>\n",
       "      <th>Govt_job</th>\n",
       "      <th>Never_worked</th>\n",
       "      <th>Private</th>\n",
       "      <th>Self-employed</th>\n",
       "      <th>children</th>\n",
       "    </tr>\n",
       "  </thead>\n",
       "  <tbody>\n",
       "    <tr>\n",
       "      <th>0</th>\n",
       "      <td>30669</td>\n",
       "      <td>3.0</td>\n",
       "      <td>0</td>\n",
       "      <td>0</td>\n",
       "      <td>0</td>\n",
       "      <td>0</td>\n",
       "      <td>95.12</td>\n",
       "      <td>18.0</td>\n",
       "      <td>never smoked</td>\n",
       "      <td>0</td>\n",
       "      <td>0</td>\n",
       "      <td>1</td>\n",
       "      <td>0</td>\n",
       "      <td>0</td>\n",
       "      <td>0</td>\n",
       "      <td>0</td>\n",
       "      <td>0</td>\n",
       "      <td>1</td>\n",
       "    </tr>\n",
       "    <tr>\n",
       "      <th>1</th>\n",
       "      <td>30468</td>\n",
       "      <td>58.0</td>\n",
       "      <td>1</td>\n",
       "      <td>0</td>\n",
       "      <td>1</td>\n",
       "      <td>1</td>\n",
       "      <td>87.96</td>\n",
       "      <td>39.2</td>\n",
       "      <td>never smoked</td>\n",
       "      <td>0</td>\n",
       "      <td>0</td>\n",
       "      <td>1</td>\n",
       "      <td>0</td>\n",
       "      <td>0</td>\n",
       "      <td>0</td>\n",
       "      <td>1</td>\n",
       "      <td>0</td>\n",
       "      <td>0</td>\n",
       "    </tr>\n",
       "    <tr>\n",
       "      <th>2</th>\n",
       "      <td>16523</td>\n",
       "      <td>8.0</td>\n",
       "      <td>0</td>\n",
       "      <td>0</td>\n",
       "      <td>0</td>\n",
       "      <td>1</td>\n",
       "      <td>110.89</td>\n",
       "      <td>17.6</td>\n",
       "      <td>never smoked</td>\n",
       "      <td>0</td>\n",
       "      <td>1</td>\n",
       "      <td>0</td>\n",
       "      <td>0</td>\n",
       "      <td>0</td>\n",
       "      <td>0</td>\n",
       "      <td>1</td>\n",
       "      <td>0</td>\n",
       "      <td>0</td>\n",
       "    </tr>\n",
       "    <tr>\n",
       "      <th>3</th>\n",
       "      <td>56543</td>\n",
       "      <td>70.0</td>\n",
       "      <td>0</td>\n",
       "      <td>0</td>\n",
       "      <td>1</td>\n",
       "      <td>0</td>\n",
       "      <td>69.04</td>\n",
       "      <td>35.9</td>\n",
       "      <td>formerly smoked</td>\n",
       "      <td>0</td>\n",
       "      <td>1</td>\n",
       "      <td>0</td>\n",
       "      <td>0</td>\n",
       "      <td>0</td>\n",
       "      <td>0</td>\n",
       "      <td>1</td>\n",
       "      <td>0</td>\n",
       "      <td>0</td>\n",
       "    </tr>\n",
       "    <tr>\n",
       "      <th>4</th>\n",
       "      <td>46136</td>\n",
       "      <td>14.0</td>\n",
       "      <td>0</td>\n",
       "      <td>0</td>\n",
       "      <td>0</td>\n",
       "      <td>0</td>\n",
       "      <td>161.28</td>\n",
       "      <td>19.1</td>\n",
       "      <td>never smoked</td>\n",
       "      <td>0</td>\n",
       "      <td>0</td>\n",
       "      <td>1</td>\n",
       "      <td>0</td>\n",
       "      <td>0</td>\n",
       "      <td>1</td>\n",
       "      <td>0</td>\n",
       "      <td>0</td>\n",
       "      <td>0</td>\n",
       "    </tr>\n",
       "  </tbody>\n",
       "</table>\n",
       "</div>"
      ],
      "text/plain": [
       "      id   age  hypertension  heart_disease  ever_married  Residence_type  \\\n",
       "0  30669   3.0             0              0             0               0   \n",
       "1  30468  58.0             1              0             1               1   \n",
       "2  16523   8.0             0              0             0               1   \n",
       "3  56543  70.0             0              0             1               0   \n",
       "4  46136  14.0             0              0             0               0   \n",
       "\n",
       "   avg_glucose_level   bmi   smoking_status  stroke  Female  Male  Other  \\\n",
       "0              95.12  18.0     never smoked       0       0     1      0   \n",
       "1              87.96  39.2     never smoked       0       0     1      0   \n",
       "2             110.89  17.6     never smoked       0       1     0      0   \n",
       "3              69.04  35.9  formerly smoked       0       1     0      0   \n",
       "4             161.28  19.1     never smoked       0       0     1      0   \n",
       "\n",
       "   Govt_job  Never_worked  Private  Self-employed  children  \n",
       "0         0             0        0              0         1  \n",
       "1         0             0        1              0         0  \n",
       "2         0             0        1              0         0  \n",
       "3         0             0        1              0         0  \n",
       "4         0             1        0              0         0  "
      ]
     },
     "execution_count": 28,
     "metadata": {},
     "output_type": "execute_result"
    }
   ],
   "source": [
    "# apply one-hot encoding to the categorical data\n",
    "one_hot = pd.get_dummies(df['work_type'])\n",
    "\n",
    "# add the one-hot encoded data back to the original dataframe\n",
    "df = df.drop('work_type', axis=1)\n",
    "df = df.join(one_hot)\n",
    "\n",
    "# print the resulting dataframe\n",
    "df.head()"
   ]
  },
  {
   "cell_type": "code",
   "execution_count": 29,
   "id": "63856909",
   "metadata": {},
   "outputs": [
    {
     "data": {
      "text/html": [
       "<div>\n",
       "<style scoped>\n",
       "    .dataframe tbody tr th:only-of-type {\n",
       "        vertical-align: middle;\n",
       "    }\n",
       "\n",
       "    .dataframe tbody tr th {\n",
       "        vertical-align: top;\n",
       "    }\n",
       "\n",
       "    .dataframe thead th {\n",
       "        text-align: right;\n",
       "    }\n",
       "</style>\n",
       "<table border=\"1\" class=\"dataframe\">\n",
       "  <thead>\n",
       "    <tr style=\"text-align: right;\">\n",
       "      <th></th>\n",
       "      <th>id</th>\n",
       "      <th>age</th>\n",
       "      <th>hypertension</th>\n",
       "      <th>heart_disease</th>\n",
       "      <th>ever_married</th>\n",
       "      <th>Residence_type</th>\n",
       "      <th>avg_glucose_level</th>\n",
       "      <th>bmi</th>\n",
       "      <th>stroke</th>\n",
       "      <th>Female</th>\n",
       "      <th>Male</th>\n",
       "      <th>Other</th>\n",
       "      <th>Govt_job</th>\n",
       "      <th>Never_worked</th>\n",
       "      <th>Private</th>\n",
       "      <th>Self-employed</th>\n",
       "      <th>children</th>\n",
       "      <th>formerly smoked</th>\n",
       "      <th>never smoked</th>\n",
       "      <th>smokes</th>\n",
       "    </tr>\n",
       "  </thead>\n",
       "  <tbody>\n",
       "    <tr>\n",
       "      <th>0</th>\n",
       "      <td>30669</td>\n",
       "      <td>3.0</td>\n",
       "      <td>0</td>\n",
       "      <td>0</td>\n",
       "      <td>0</td>\n",
       "      <td>0</td>\n",
       "      <td>95.12</td>\n",
       "      <td>18.0</td>\n",
       "      <td>0</td>\n",
       "      <td>0</td>\n",
       "      <td>1</td>\n",
       "      <td>0</td>\n",
       "      <td>0</td>\n",
       "      <td>0</td>\n",
       "      <td>0</td>\n",
       "      <td>0</td>\n",
       "      <td>1</td>\n",
       "      <td>0</td>\n",
       "      <td>1</td>\n",
       "      <td>0</td>\n",
       "    </tr>\n",
       "    <tr>\n",
       "      <th>1</th>\n",
       "      <td>30468</td>\n",
       "      <td>58.0</td>\n",
       "      <td>1</td>\n",
       "      <td>0</td>\n",
       "      <td>1</td>\n",
       "      <td>1</td>\n",
       "      <td>87.96</td>\n",
       "      <td>39.2</td>\n",
       "      <td>0</td>\n",
       "      <td>0</td>\n",
       "      <td>1</td>\n",
       "      <td>0</td>\n",
       "      <td>0</td>\n",
       "      <td>0</td>\n",
       "      <td>1</td>\n",
       "      <td>0</td>\n",
       "      <td>0</td>\n",
       "      <td>0</td>\n",
       "      <td>1</td>\n",
       "      <td>0</td>\n",
       "    </tr>\n",
       "    <tr>\n",
       "      <th>2</th>\n",
       "      <td>16523</td>\n",
       "      <td>8.0</td>\n",
       "      <td>0</td>\n",
       "      <td>0</td>\n",
       "      <td>0</td>\n",
       "      <td>1</td>\n",
       "      <td>110.89</td>\n",
       "      <td>17.6</td>\n",
       "      <td>0</td>\n",
       "      <td>1</td>\n",
       "      <td>0</td>\n",
       "      <td>0</td>\n",
       "      <td>0</td>\n",
       "      <td>0</td>\n",
       "      <td>1</td>\n",
       "      <td>0</td>\n",
       "      <td>0</td>\n",
       "      <td>0</td>\n",
       "      <td>1</td>\n",
       "      <td>0</td>\n",
       "    </tr>\n",
       "    <tr>\n",
       "      <th>3</th>\n",
       "      <td>56543</td>\n",
       "      <td>70.0</td>\n",
       "      <td>0</td>\n",
       "      <td>0</td>\n",
       "      <td>1</td>\n",
       "      <td>0</td>\n",
       "      <td>69.04</td>\n",
       "      <td>35.9</td>\n",
       "      <td>0</td>\n",
       "      <td>1</td>\n",
       "      <td>0</td>\n",
       "      <td>0</td>\n",
       "      <td>0</td>\n",
       "      <td>0</td>\n",
       "      <td>1</td>\n",
       "      <td>0</td>\n",
       "      <td>0</td>\n",
       "      <td>1</td>\n",
       "      <td>0</td>\n",
       "      <td>0</td>\n",
       "    </tr>\n",
       "    <tr>\n",
       "      <th>4</th>\n",
       "      <td>46136</td>\n",
       "      <td>14.0</td>\n",
       "      <td>0</td>\n",
       "      <td>0</td>\n",
       "      <td>0</td>\n",
       "      <td>0</td>\n",
       "      <td>161.28</td>\n",
       "      <td>19.1</td>\n",
       "      <td>0</td>\n",
       "      <td>0</td>\n",
       "      <td>1</td>\n",
       "      <td>0</td>\n",
       "      <td>0</td>\n",
       "      <td>1</td>\n",
       "      <td>0</td>\n",
       "      <td>0</td>\n",
       "      <td>0</td>\n",
       "      <td>0</td>\n",
       "      <td>1</td>\n",
       "      <td>0</td>\n",
       "    </tr>\n",
       "  </tbody>\n",
       "</table>\n",
       "</div>"
      ],
      "text/plain": [
       "      id   age  hypertension  heart_disease  ever_married  Residence_type  \\\n",
       "0  30669   3.0             0              0             0               0   \n",
       "1  30468  58.0             1              0             1               1   \n",
       "2  16523   8.0             0              0             0               1   \n",
       "3  56543  70.0             0              0             1               0   \n",
       "4  46136  14.0             0              0             0               0   \n",
       "\n",
       "   avg_glucose_level   bmi  stroke  Female  Male  Other  Govt_job  \\\n",
       "0              95.12  18.0       0       0     1      0         0   \n",
       "1              87.96  39.2       0       0     1      0         0   \n",
       "2             110.89  17.6       0       1     0      0         0   \n",
       "3              69.04  35.9       0       1     0      0         0   \n",
       "4             161.28  19.1       0       0     1      0         0   \n",
       "\n",
       "   Never_worked  Private  Self-employed  children  formerly smoked  \\\n",
       "0             0        0              0         1                0   \n",
       "1             0        1              0         0                0   \n",
       "2             0        1              0         0                0   \n",
       "3             0        1              0         0                1   \n",
       "4             1        0              0         0                0   \n",
       "\n",
       "   never smoked  smokes  \n",
       "0             1       0  \n",
       "1             1       0  \n",
       "2             1       0  \n",
       "3             0       0  \n",
       "4             1       0  "
      ]
     },
     "execution_count": 29,
     "metadata": {},
     "output_type": "execute_result"
    }
   ],
   "source": [
    "# apply one-hot encoding to the categorical data\n",
    "one_hot = pd.get_dummies(df['smoking_status'])\n",
    "\n",
    "# add the one-hot encoded data back to the original dataframe\n",
    "df = df.drop('smoking_status', axis=1)\n",
    "df = df.join(one_hot)\n",
    "\n",
    "# print the resulting dataframe\n",
    "df.head()"
   ]
  },
  {
   "cell_type": "markdown",
   "id": "c529e025",
   "metadata": {},
   "source": [
    "### Dealing with Outliers\n",
    "\n",
    " Using the Interquartile Range method, outliers were replaced with their upper and lower limits"
   ]
  },
  {
   "cell_type": "code",
   "execution_count": 30,
   "id": "66971929",
   "metadata": {},
   "outputs": [],
   "source": [
    "def replace_with_thresholds(df, col, low_threshold=0.1, up_threshold=0.9):\n",
    "    q1 = df[col].quantile(low_threshold)\n",
    "    q3 = df[col].quantile(up_threshold)\n",
    "    interquantile = q3 - q1\n",
    "    up_limit = q3 + 1.5 * interquantile\n",
    "    low_limit = q1 - 1.5 * interquantile\n",
    "    df.loc[(df[col] < low_limit), col] = low_limit\n",
    "    df.loc[(df[col] > up_limit), col] = up_limit"
   ]
  },
  {
   "cell_type": "code",
   "execution_count": 31,
   "id": "9b4a120a",
   "metadata": {},
   "outputs": [],
   "source": [
    "for col in outlier_cols:\n",
    "    replace_with_thresholds(df, col)"
   ]
  },
  {
   "cell_type": "code",
   "execution_count": 32,
   "id": "7bad296e",
   "metadata": {},
   "outputs": [
    {
     "name": "stdout",
     "output_type": "stream",
     "text": [
      "There is no outliers\n"
     ]
    },
    {
     "data": {
      "text/plain": [
       "[]"
      ]
     },
     "execution_count": 32,
     "metadata": {},
     "output_type": "execute_result"
    }
   ],
   "source": [
    "check_outliers(df, num_cols) # Checked for outliers again"
   ]
  },
  {
   "cell_type": "markdown",
   "id": "666ad5ad",
   "metadata": {},
   "source": [
    "### Feature Scaling\n",
    "\n",
    "Min-Max Scaler was applied to \"age\", \"bmi\" and \"avg_glucose_level\""
   ]
  },
  {
   "cell_type": "code",
   "execution_count": 33,
   "id": "6105f21f",
   "metadata": {},
   "outputs": [],
   "source": [
    "sc = MinMaxScaler()"
   ]
  },
  {
   "cell_type": "code",
   "execution_count": 34,
   "id": "1e20c571",
   "metadata": {},
   "outputs": [],
   "source": [
    "df[\"age\"] = sc.fit_transform(df[[\"age\"]])\n",
    "df[\"bmi\"] = sc.fit_transform(df[[\"bmi\"]])\n",
    "df[\"avg_glucose_level\"] = sc.fit_transform(df[[\"avg_glucose_level\"]])"
   ]
  },
  {
   "cell_type": "code",
   "execution_count": 35,
   "id": "2299abdb",
   "metadata": {},
   "outputs": [
    {
     "data": {
      "text/html": [
       "<div>\n",
       "<style scoped>\n",
       "    .dataframe tbody tr th:only-of-type {\n",
       "        vertical-align: middle;\n",
       "    }\n",
       "\n",
       "    .dataframe tbody tr th {\n",
       "        vertical-align: top;\n",
       "    }\n",
       "\n",
       "    .dataframe thead th {\n",
       "        text-align: right;\n",
       "    }\n",
       "</style>\n",
       "<table border=\"1\" class=\"dataframe\">\n",
       "  <thead>\n",
       "    <tr style=\"text-align: right;\">\n",
       "      <th></th>\n",
       "      <th>id</th>\n",
       "      <th>age</th>\n",
       "      <th>hypertension</th>\n",
       "      <th>heart_disease</th>\n",
       "      <th>ever_married</th>\n",
       "      <th>Residence_type</th>\n",
       "      <th>avg_glucose_level</th>\n",
       "      <th>bmi</th>\n",
       "      <th>stroke</th>\n",
       "      <th>Female</th>\n",
       "      <th>Male</th>\n",
       "      <th>Other</th>\n",
       "      <th>Govt_job</th>\n",
       "      <th>Never_worked</th>\n",
       "      <th>Private</th>\n",
       "      <th>Self-employed</th>\n",
       "      <th>children</th>\n",
       "      <th>formerly smoked</th>\n",
       "      <th>never smoked</th>\n",
       "      <th>smokes</th>\n",
       "    </tr>\n",
       "  </thead>\n",
       "  <tbody>\n",
       "    <tr>\n",
       "      <th>0</th>\n",
       "      <td>30669</td>\n",
       "      <td>0.035645</td>\n",
       "      <td>0</td>\n",
       "      <td>0</td>\n",
       "      <td>0</td>\n",
       "      <td>0</td>\n",
       "      <td>0.169964</td>\n",
       "      <td>0.139453</td>\n",
       "      <td>0</td>\n",
       "      <td>0</td>\n",
       "      <td>1</td>\n",
       "      <td>0</td>\n",
       "      <td>0</td>\n",
       "      <td>0</td>\n",
       "      <td>0</td>\n",
       "      <td>0</td>\n",
       "      <td>1</td>\n",
       "      <td>0</td>\n",
       "      <td>1</td>\n",
       "      <td>0</td>\n",
       "    </tr>\n",
       "    <tr>\n",
       "      <th>1</th>\n",
       "      <td>30468</td>\n",
       "      <td>0.707031</td>\n",
       "      <td>1</td>\n",
       "      <td>0</td>\n",
       "      <td>1</td>\n",
       "      <td>1</td>\n",
       "      <td>0.139631</td>\n",
       "      <td>0.513680</td>\n",
       "      <td>0</td>\n",
       "      <td>0</td>\n",
       "      <td>1</td>\n",
       "      <td>0</td>\n",
       "      <td>0</td>\n",
       "      <td>0</td>\n",
       "      <td>1</td>\n",
       "      <td>0</td>\n",
       "      <td>0</td>\n",
       "      <td>0</td>\n",
       "      <td>1</td>\n",
       "      <td>0</td>\n",
       "    </tr>\n",
       "    <tr>\n",
       "      <th>2</th>\n",
       "      <td>16523</td>\n",
       "      <td>0.096680</td>\n",
       "      <td>0</td>\n",
       "      <td>0</td>\n",
       "      <td>0</td>\n",
       "      <td>1</td>\n",
       "      <td>0.236772</td>\n",
       "      <td>0.132392</td>\n",
       "      <td>0</td>\n",
       "      <td>1</td>\n",
       "      <td>0</td>\n",
       "      <td>0</td>\n",
       "      <td>0</td>\n",
       "      <td>0</td>\n",
       "      <td>1</td>\n",
       "      <td>0</td>\n",
       "      <td>0</td>\n",
       "      <td>0</td>\n",
       "      <td>1</td>\n",
       "      <td>0</td>\n",
       "    </tr>\n",
       "    <tr>\n",
       "      <th>3</th>\n",
       "      <td>56543</td>\n",
       "      <td>0.853516</td>\n",
       "      <td>0</td>\n",
       "      <td>0</td>\n",
       "      <td>1</td>\n",
       "      <td>0</td>\n",
       "      <td>0.059479</td>\n",
       "      <td>0.455428</td>\n",
       "      <td>0</td>\n",
       "      <td>1</td>\n",
       "      <td>0</td>\n",
       "      <td>0</td>\n",
       "      <td>0</td>\n",
       "      <td>0</td>\n",
       "      <td>1</td>\n",
       "      <td>0</td>\n",
       "      <td>0</td>\n",
       "      <td>1</td>\n",
       "      <td>0</td>\n",
       "      <td>0</td>\n",
       "    </tr>\n",
       "    <tr>\n",
       "      <th>4</th>\n",
       "      <td>46136</td>\n",
       "      <td>0.169922</td>\n",
       "      <td>0</td>\n",
       "      <td>0</td>\n",
       "      <td>0</td>\n",
       "      <td>0</td>\n",
       "      <td>0.450244</td>\n",
       "      <td>0.158870</td>\n",
       "      <td>0</td>\n",
       "      <td>0</td>\n",
       "      <td>1</td>\n",
       "      <td>0</td>\n",
       "      <td>0</td>\n",
       "      <td>1</td>\n",
       "      <td>0</td>\n",
       "      <td>0</td>\n",
       "      <td>0</td>\n",
       "      <td>0</td>\n",
       "      <td>1</td>\n",
       "      <td>0</td>\n",
       "    </tr>\n",
       "  </tbody>\n",
       "</table>\n",
       "</div>"
      ],
      "text/plain": [
       "      id       age  hypertension  heart_disease  ever_married  Residence_type  \\\n",
       "0  30669  0.035645             0              0             0               0   \n",
       "1  30468  0.707031             1              0             1               1   \n",
       "2  16523  0.096680             0              0             0               1   \n",
       "3  56543  0.853516             0              0             1               0   \n",
       "4  46136  0.169922             0              0             0               0   \n",
       "\n",
       "   avg_glucose_level       bmi  stroke  Female  Male  Other  Govt_job  \\\n",
       "0           0.169964  0.139453       0       0     1      0         0   \n",
       "1           0.139631  0.513680       0       0     1      0         0   \n",
       "2           0.236772  0.132392       0       1     0      0         0   \n",
       "3           0.059479  0.455428       0       1     0      0         0   \n",
       "4           0.450244  0.158870       0       0     1      0         0   \n",
       "\n",
       "   Never_worked  Private  Self-employed  children  formerly smoked  \\\n",
       "0             0        0              0         1                0   \n",
       "1             0        1              0         0                0   \n",
       "2             0        1              0         0                0   \n",
       "3             0        1              0         0                1   \n",
       "4             1        0              0         0                0   \n",
       "\n",
       "   never smoked  smokes  \n",
       "0             1       0  \n",
       "1             1       0  \n",
       "2             1       0  \n",
       "3             0       0  \n",
       "4             1       0  "
      ]
     },
     "execution_count": 35,
     "metadata": {},
     "output_type": "execute_result"
    }
   ],
   "source": [
    "df.head()"
   ]
  },
  {
   "cell_type": "markdown",
   "id": "04777948",
   "metadata": {},
   "source": [
    "# Model Building\n",
    "\n",
    "## SMOTE"
   ]
  },
  {
   "cell_type": "code",
   "execution_count": 36,
   "id": "cea5b620",
   "metadata": {},
   "outputs": [],
   "source": [
    "from imblearn.over_sampling import SMOTE\n",
    "sm = SMOTE()\n",
    "y = df[\"stroke\"]\n",
    "X = df.drop([\"stroke\", \"id\"], axis=1)\n",
    "X_train, X_test, y_train, y_test = train_test_split(X, y, test_size=0.2)"
   ]
  },
  {
   "cell_type": "code",
   "execution_count": 37,
   "id": "99ff11de",
   "metadata": {},
   "outputs": [
    {
     "data": {
      "text/plain": [
       "618"
      ]
     },
     "execution_count": 37,
     "metadata": {},
     "output_type": "execute_result"
    }
   ],
   "source": [
    "sum(y_train == 1)\n"
   ]
  },
  {
   "cell_type": "markdown",
   "id": "43a451cc",
   "metadata": {},
   "source": [
    "There are 626 data equal to 1"
   ]
  },
  {
   "cell_type": "code",
   "execution_count": 38,
   "id": "be3df93a",
   "metadata": {},
   "outputs": [
    {
     "data": {
      "text/plain": [
       "34102"
      ]
     },
     "execution_count": 38,
     "metadata": {},
     "output_type": "execute_result"
    }
   ],
   "source": [
    "sum(y_train == 0)"
   ]
  },
  {
   "cell_type": "markdown",
   "id": "854e2466",
   "metadata": {},
   "source": [
    "There are 34094 data equal to 0"
   ]
  },
  {
   "cell_type": "code",
   "execution_count": 39,
   "id": "26eecd00",
   "metadata": {},
   "outputs": [],
   "source": [
    "X_train_smote, y_train_smote = sm.fit_resample(X_train, y_train)"
   ]
  },
  {
   "cell_type": "code",
   "execution_count": 40,
   "id": "7ed1cd48",
   "metadata": {},
   "outputs": [
    {
     "data": {
      "text/plain": [
       "34102"
      ]
     },
     "execution_count": 40,
     "metadata": {},
     "output_type": "execute_result"
    }
   ],
   "source": [
    "sum(y_train_smote == 1)"
   ]
  },
  {
   "cell_type": "markdown",
   "id": "f37f7088",
   "metadata": {},
   "source": [
    "There are 34094 data equal to 1"
   ]
  },
  {
   "cell_type": "code",
   "execution_count": 41,
   "id": "959fe4f2",
   "metadata": {},
   "outputs": [
    {
     "data": {
      "text/plain": [
       "34102"
      ]
     },
     "execution_count": 41,
     "metadata": {},
     "output_type": "execute_result"
    }
   ],
   "source": [
    "sum(y_train_smote == 0)"
   ]
  },
  {
   "cell_type": "markdown",
   "id": "fe48040e",
   "metadata": {},
   "source": [
    "There are 34094 data equal to 0\n"
   ]
  },
  {
   "cell_type": "markdown",
   "id": "b7321d6c",
   "metadata": {},
   "source": [
    "## Logistic Regression"
   ]
  },
  {
   "cell_type": "code",
   "execution_count": 42,
   "id": "281f1489",
   "metadata": {},
   "outputs": [
    {
     "name": "stdout",
     "output_type": "stream",
     "text": [
      "Accuracy=0.75\n"
     ]
    }
   ],
   "source": [
    "logreg = LogisticRegression()   #build our logistic model\n",
    "logreg.fit(X_train_smote, y_train_smote)  #fitting training data\n",
    "y_pred  = logreg.predict(X_test)  \n",
    "print(\"Accuracy={:.2f}\".format(logreg.score(X_test, y_test)))"
   ]
  },
  {
   "cell_type": "code",
   "execution_count": 43,
   "id": "952f8759",
   "metadata": {},
   "outputs": [
    {
     "data": {
      "text/plain": [
       "<AxesSubplot:xlabel='Predicted', ylabel='Actual'>"
      ]
     },
     "execution_count": 43,
     "metadata": {},
     "output_type": "execute_result"
    },
    {
     "data": {
      "image/png": "[encoded data removed]",
      "text/plain": [
       "<Figure size 432x288 with 2 Axes>"
      ]
     },
     "metadata": {
      "needs_background": "light"
     },
     "output_type": "display_data"
    }
   ],
   "source": [
    "confusion_matrix = pd.crosstab(y_test, y_pred, rownames=['Actual'], colnames=['Predicted'])\n",
    "sns.heatmap(confusion_matrix, annot=True)"
   ]
  },
  {
   "cell_type": "markdown",
   "id": "cbeecb1f",
   "metadata": {},
   "source": [
    "## KNN"
   ]
  },
  {
   "cell_type": "code",
   "execution_count": 44,
   "id": "f17c20f8",
   "metadata": {},
   "outputs": [
    {
     "name": "stdout",
     "output_type": "stream",
     "text": [
      "Accuracy= 0.803110599078341\n"
     ]
    }
   ],
   "source": [
    "knn=KNeighborsClassifier(n_neighbors=20) #build our knn classifier\n",
    "knn.fit(X_train_smote,y_train_smote) #Training KNN classifier\n",
    "y_pred=knn.predict(X_test) #Testing\n",
    "print('Accuracy=',accuracy_score(y_pred,y_test))"
   ]
  },
  {
   "cell_type": "code",
   "execution_count": 45,
   "id": "960cc910",
   "metadata": {},
   "outputs": [
    {
     "name": "stdout",
     "output_type": "stream",
     "text": [
      "Accuracy for k= 1 is: 0.78\n",
      "Accuracy for k= 2 is: 0.79\n",
      "Accuracy for k= 3 is: 0.78\n",
      "Accuracy for k= 4 is: 0.79\n",
      "Accuracy for k= 5 is: 0.78\n",
      "Accuracy for k= 6 is: 0.8\n",
      "Accuracy for k= 7 is: 0.79\n",
      "Accuracy for k= 8 is: 0.8\n",
      "Accuracy for k= 9 is: 0.79\n",
      "Accuracy for k= 10 is: 0.8\n",
      "Accuracy for k= 11 is: 0.8\n",
      "Accuracy for k= 12 is: 0.81\n",
      "Accuracy for k= 13 is: 0.8\n",
      "Accuracy for k= 14 is: 0.81\n",
      "Accuracy for k= 15 is: 0.81\n",
      "Accuracy for k= 16 is: 0.82\n",
      "Accuracy for k= 17 is: 0.81\n",
      "Accuracy for k= 18 is: 0.83\n",
      "Accuracy for k= 19 is: 0.82\n",
      "Accuracy for k= 20 is: 0.84\n",
      "Accuracy for k= 21 is: 0.83\n",
      "Accuracy for k= 22 is: 0.85\n",
      "Accuracy for k= 23 is: 0.84\n",
      "Accuracy for k= 24 is: 0.86\n",
      "Accuracy for k= 25 is: 0.85\n",
      "Accuracy for k= 26 is: 0.88\n",
      "Accuracy for k= 27 is: 0.87\n",
      "Accuracy for k= 28 is: 0.91\n",
      "Accuracy for k= 29 is: 0.9\n"
     ]
    }
   ],
   "source": [
    "n_neighbors=30\n",
    "scores=[]\n",
    "for k in range(1,30):\n",
    "    knn=KNeighborsClassifier(n_neighbors-k)\n",
    "    knn.fit(X_train_smote,y_train_smote)\n",
    "    y_pred=knn.predict(X_test)\n",
    "    print('Accuracy for k=',k,'is:',round(accuracy_score(y_pred,y_test),2))\n",
    "    scores.append(round(accuracy_score(y_pred,y_test),2))"
   ]
  },
  {
   "cell_type": "code",
   "execution_count": 46,
   "id": "31537f04",
   "metadata": {},
   "outputs": [
    {
     "data": {
      "text/plain": [
       "Text(0, 0.5, 'Testing Accuracy')"
      ]
     },
     "execution_count": 46,
     "metadata": {},
     "output_type": "execute_result"
    },
    {
     "data": {
      "image/png": "[encoded data removed]",
      "text/plain": [
       "<Figure size 432x288 with 1 Axes>"
      ]
     },
     "metadata": {
      "needs_background": "light"
     },
     "output_type": "display_data"
    }
   ],
   "source": [
    "import matplotlib.pyplot as plt\n",
    "plt.plot(range(1,30),scores)\n",
    "plt.xlabel('Value K for KNN')\n",
    "plt.ylabel('Testing Accuracy')"
   ]
  },
  {
   "cell_type": "markdown",
   "id": "76b352e4",
   "metadata": {},
   "source": [
    "the best k is 28\n"
   ]
  },
  {
   "cell_type": "code",
   "execution_count": 47,
   "id": "ffbb66ef",
   "metadata": {},
   "outputs": [
    {
     "name": "stdout",
     "output_type": "stream",
     "text": [
      "Accuracy= 0.9126728110599078\n"
     ]
    }
   ],
   "source": [
    "knn=KNeighborsClassifier(n_neighbors=2) #build our knn classifier\n",
    "knn.fit(X_train_smote,y_train_smote) #Training KNN classifier\n",
    "y_pred=knn.predict(X_test) #Testing\n",
    "print('Accuracy=',accuracy_score(y_pred,y_test))"
   ]
  },
  {
   "cell_type": "code",
   "execution_count": 48,
   "id": "d061bb26",
   "metadata": {},
   "outputs": [
    {
     "data": {
      "text/plain": [
       "<AxesSubplot:xlabel='Predicted', ylabel='Actual'>"
      ]
     },
     "execution_count": 48,
     "metadata": {},
     "output_type": "execute_result"
    },
    {
     "data": {
      "image/png": "[encoded data removed]",
      "text/plain": [
       "<Figure size 432x288 with 2 Axes>"
      ]
     },
     "metadata": {
      "needs_background": "light"
     },
     "output_type": "display_data"
    }
   ],
   "source": [
    "confusion_matrix = pd.crosstab(y_test, y_pred, rownames=['Actual'], colnames=['Predicted'])\n",
    "sns.heatmap(confusion_matrix, annot=True)"
   ]
  },
  {
   "cell_type": "markdown",
   "id": "f7165012",
   "metadata": {},
   "source": [
    "## DecisionTree"
   ]
  },
  {
   "cell_type": "code",
   "execution_count": 49,
   "id": "d255657e",
   "metadata": {},
   "outputs": [
    {
     "name": "stdout",
     "output_type": "stream",
     "text": [
      "score:0.9517281105990784\n"
     ]
    }
   ],
   "source": [
    "from sklearn import tree   \n",
    "from sklearn.tree import DecisionTreeClassifier\n",
    "from sklearn.metrics import accuracy_score\n",
    "\n",
    "SEED=15\n",
    "\n",
    "#applying tree algorithm\n",
    "model = tree.DecisionTreeClassifier(random_state=SEED)\n",
    "\n",
    "model.fit(X_train_smote, y_train_smote)   #fitting our model\n",
    "y_pred=model.predict(X_test)   # evaluating our model\n",
    "\n",
    "print(\"score:{}\".format(accuracy_score(y_test, y_pred)))"
   ]
  },
  {
   "cell_type": "code",
   "execution_count": 50,
   "id": "947aa5a7",
   "metadata": {},
   "outputs": [
    {
     "data": {
      "text/plain": [
       "<AxesSubplot:xlabel='Predicted', ylabel='Actual'>"
      ]
     },
     "execution_count": 50,
     "metadata": {},
     "output_type": "execute_result"
    },
    {
     "data": {
      "image/png": "[encoded data removed]",
      "text/plain": [
       "<Figure size 432x288 with 2 Axes>"
      ]
     },
     "metadata": {
      "needs_background": "light"
     },
     "output_type": "display_data"
    }
   ],
   "source": [
    "confusion_matrix = pd.crosstab(y_test, y_pred, rownames=['Actual'], colnames=['Predicted'])\n",
    "sns.heatmap(confusion_matrix, annot=True)"
   ]
  },
  {
   "cell_type": "markdown",
   "id": "69dfb8ac",
   "metadata": {},
   "source": [
    "## Random forest \n"
   ]
  },
  {
   "cell_type": "code",
   "execution_count": 51,
   "id": "5457261f",
   "metadata": {},
   "outputs": [
    {
     "name": "stdout",
     "output_type": "stream",
     "text": [
      "Accuracy: 0.9282258064516129\n"
     ]
    }
   ],
   "source": [
    "from sklearn import metrics\n",
    "\n",
    "clf=RandomForestClassifier(n_estimators=10)  #Creating a random forest with n decision trees\n",
    "clf.fit(X_train_smote, y_train_smote)  #Training our model\n",
    "y_pred=clf.predict(X_test)  #testing our model\n",
    "print(\"Accuracy:\", metrics.accuracy_score(y_test, y_pred))  #Measuring the accuracy of our model\n"
   ]
  },
  {
   "cell_type": "code",
   "execution_count": 52,
   "id": "d7a9668b",
   "metadata": {},
   "outputs": [
    {
     "name": "stdout",
     "output_type": "stream",
     "text": [
      "Accuracy: 0.9237327188940092\n"
     ]
    }
   ],
   "source": [
    "from sklearn import metrics\n",
    "\n",
    "clf=RandomForestClassifier(n_estimators=50)  #Creating a random forest with n decision trees\n",
    "clf.fit(X_train_smote, y_train_smote)  #Training our model\n",
    "y_pred=clf.predict(X_test)  #testing our model\n",
    "print(\"Accuracy:\", metrics.accuracy_score(y_test, y_pred))  #Measuring the accuracy of our model"
   ]
  },
  {
   "cell_type": "code",
   "execution_count": 53,
   "id": "eb92bead",
   "metadata": {},
   "outputs": [
    {
     "data": {
      "text/plain": [
       "<AxesSubplot:xlabel='Predicted', ylabel='Actual'>"
      ]
     },
     "execution_count": 53,
     "metadata": {},
     "output_type": "execute_result"
    },
    {
     "data": {
      "image/png": "[encoded data removed]",
      "text/plain": [
       "<Figure size 432x288 with 2 Axes>"
      ]
     },
     "metadata": {
      "needs_background": "light"
     },
     "output_type": "display_data"
    }
   ],
   "source": [
    "confusion_matrix = pd.crosstab(y_test, y_pred, rownames=['Actual'], colnames=['Predicted'])\n",
    "sns.heatmap(confusion_matrix, annot=True)"
   ]
  },
  {
   "cell_type": "markdown",
   "id": "f9392a4b",
   "metadata": {},
   "source": [
    "### XGBOOST\n"
   ]
  },
  {
   "cell_type": "code",
   "execution_count": 54,
   "id": "f9ce22f7",
   "metadata": {},
   "outputs": [
    {
     "name": "stdout",
     "output_type": "stream",
     "text": [
      "Accuracy: 96.98%\n"
     ]
    }
   ],
   "source": [
    "# Create XGBoost model\n",
    "xgb_model = XGBClassifier()\n",
    "\n",
    "# Fit the model to the training data\n",
    "xgb_model.fit(X_train_smote, y_train_smote)\n",
    "\n",
    "# Make predictions on the testing data\n",
    "y_pred = xgb_model.predict(X_test)\n",
    "\n",
    "# Evaluate model accuracy\n",
    "accuracy = accuracy_score(y_test, y_pred)\n",
    "print(\"Accuracy: %.2f%%\" % (accuracy * 100.0))"
   ]
  },
  {
   "cell_type": "code",
   "execution_count": 55,
   "id": "75129ca4",
   "metadata": {},
   "outputs": [
    {
     "data": {
      "text/plain": [
       "<AxesSubplot:xlabel='Predicted', ylabel='Actual'>"
      ]
     },
     "execution_count": 55,
     "metadata": {},
     "output_type": "execute_result"
    },
    {
     "data": {
      "image/png": "[encoded data removed]",
      "text/plain": [
       "<Figure size 432x288 with 2 Axes>"
      ]
     },
     "metadata": {
      "needs_background": "light"
     },
     "output_type": "display_data"
    }
   ],
   "source": [
    "confusion_matrix = pd.crosstab(y_test, y_pred, rownames=['Actual'], colnames=['Predicted'])\n",
    "sns.heatmap(confusion_matrix, annot=True)"
   ]
  },
  {
   "cell_type": "markdown",
   "id": "11b0feea",
   "metadata": {},
   "source": [
    "### GradientBoost\n"
   ]
  },
  {
   "cell_type": "code",
   "execution_count": 56,
   "id": "7706841d",
   "metadata": {},
   "outputs": [
    {
     "name": "stdout",
     "output_type": "stream",
     "text": [
      "Accuracy: 80.06%\n"
     ]
    }
   ],
   "source": [
    "# Create a GBM model\n",
    "gbm = GradientBoostingClassifier()\n",
    "\n",
    "# Train the model on the training set\n",
    "gbm.fit(X_train_smote,y_train_smote)\n",
    "\n",
    "# Make predictions on the test set\n",
    "y_pred = gbm.predict(X_test)\n",
    "\n",
    "# Evaluate the performance of the model\n",
    "\n",
    "accuracy = metrics.accuracy_score(y_test, y_pred)\n",
    "print(\"Accuracy: %.2f%%\" % (accuracy * 100.0))"
   ]
  },
  {
   "cell_type": "code",
   "execution_count": 57,
   "id": "aea1e62f",
   "metadata": {},
   "outputs": [
    {
     "data": {
      "text/plain": [
       "<AxesSubplot:xlabel='Predicted', ylabel='Actual'>"
      ]
     },
     "execution_count": 57,
     "metadata": {},
     "output_type": "execute_result"
    },
    {
     "data": {
      "image/png": "[encoded data removed]",
      "text/plain": [
       "<Figure size 432x288 with 2 Axes>"
      ]
     },
     "metadata": {
      "needs_background": "light"
     },
     "output_type": "display_data"
    }
   ],
   "source": [
    "confusion_matrix = pd.crosstab(y_test, y_pred, rownames=['Actual'], colnames=['Predicted'])\n",
    "sns.heatmap(confusion_matrix, annot=True)"
   ]
  },
  {
   "cell_type": "code",
   "execution_count": null,
   "id": "04853f16",
   "metadata": {},
   "outputs": [],
   "source": [
    "df.head()"
   ]
  },
  {
   "cell_type": "code",
   "execution_count": null,
   "id": "154e5f3e",
   "metadata": {},
   "outputs": [],
   "source": []
  }
 ],
 "metadata": {
  "kernelspec": {
   "display_name": "Python 3 (ipykernel)",
   "language": "python",
   "name": "python3"
  },
  "language_info": {
   "codemirror_mode": {
    "name": "ipython",
    "version": 3
   },
   "file_extension": ".py",
   "mimetype": "text/x-python",
   "name": "python",
   "nbconvert_exporter": "python",
   "pygments_lexer": "ipython3",
   "version": "3.9.7"
  }
 },
 "nbformat": 4,
 "nbformat_minor": 5
}
